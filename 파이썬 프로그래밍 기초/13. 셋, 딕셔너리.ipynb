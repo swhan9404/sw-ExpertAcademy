{
 "cells": [
  {
   "cell_type": "code",
   "execution_count": null,
   "metadata": {},
   "outputs": [],
   "source": [
    "## 셋 기본 연산\n",
    "# 교집합 \n",
    "A & B \n",
    "A.intersection(B)\n",
    "\n",
    "# 합집합\n",
    "A | B\n",
    "A.union(B)\n",
    "\n",
    "# 차집합\n",
    "A - B\n",
    "A.difference(B)"
   ]
  },
  {
   "cell_type": "code",
   "execution_count": null,
   "metadata": {},
   "outputs": [],
   "source": [
    "## 셋 항목 추가\n",
    "집합.add(추가할 항목)\n",
    "집합.update(추가할 집합)\n",
    "\n",
    "## 셋 항목 제거\n",
    "집합.remove(제거할 항목)\n",
    "집합.pop() #첫번째 항목제거 \n",
    "집합.clear() # 빈 set 객체 / {} 는 딕셔너리의 리터럴이라 비어잇는 셋은 set()으로 표기\n",
    "\n",
    "## 존재여부확인\n",
    "요소 in 집합\n",
    "집합1.superset(집합2) # 집합1이 집합2를 전부 포함하는지?\n",
    "집합1.issubset(집합2) # 집합1이 집합2에 포함되는지?"
   ]
  },
  {
   "cell_type": "code",
   "execution_count": null,
   "metadata": {},
   "outputs": [],
   "source": [
    "## \n",
    "## 딕셔너리\n",
    "##\n",
    "\n",
    "# 추가, 수정 # 딕셔너리에 추가(항목키가 동일할 경우에는 수정)\n",
    "딕셔너리.update(딕셔너리 객체) \n",
    "딕셔너리[등록할키] = 값 \n",
    "\n"
   ]
  }
 ],
 "metadata": {
  "kernelspec": {
   "display_name": "Python 3",
   "language": "python",
   "name": "python3"
  },
  "language_info": {
   "codemirror_mode": {
    "name": "ipython",
    "version": 3
   },
   "file_extension": ".py",
   "mimetype": "text/x-python",
   "name": "python",
   "nbconvert_exporter": "python",
   "pygments_lexer": "ipython3",
   "version": "3.6.5"
  }
 },
 "nbformat": 4,
 "nbformat_minor": 2
}
