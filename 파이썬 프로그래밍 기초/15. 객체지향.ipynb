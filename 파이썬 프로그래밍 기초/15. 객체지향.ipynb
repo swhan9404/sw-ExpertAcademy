{
 "cells": [
  {
   "cell_type": "code",
   "execution_count": null,
   "metadata": {},
   "outputs": [],
   "source": [
    "## 객체지향\n",
    "객체 = 변수 +메서드\n",
    "\n",
    "# 클래스란\n",
    "\"\"\"\n",
    "- 같은 문제 도메인 안에서 속하는 속성(attribute)와 행위(behavior) 정의\n",
    "- 객체 지향 프로그램의 기본적인 사용자 정의 데이터 타입\n",
    "- 메모리에 로딩된 클래스 -> 메모리상에 생성된 정보(인스턴스)\n",
    "- 객체의 행위는 클래스에 정의된 행위의 정의를 공유함으로써 메모리를 효율적으로 사용\n",
    "\"\"\"\n",
    "\n",
    "# 추상화 - 공통된 속성, 행위를 추출하는 것\n",
    "\n",
    "# 상속 - 새로운 클래스가 기존 클래스의 데이터와 연산을 이용할 수 있게하는 기능\n",
    "\"\"\"\n",
    "부모 클래스 - 자식클래스\n",
    "기반 클래스 - 파생클래스\n",
    "상위 클래스 - 하위클래스\n",
    "슈퍼 클래스 - 서브클래스\n",
    "=> 재사용으로 인한 코드 ▽\n",
    "범용적인 사용가능\n",
    "자료와 메서드의 자유로운 사용 및 추가기능\n",
    "\"\"\"\n",
    "class Parent :\n",
    "    def __init__(self, family_name) :\n",
    "        self.__family_name : family_name\n",
    "    @property\n",
    "    def family.name(self) :\n",
    "        return __family_name\n",
    "class Child(Parent) :\n",
    "    def __init__(self, first_name, family_name) :\n",
    "        Parent.__init__(self, family_name) \n",
    "        # super().__init__(family_name)  로 표현도 가능\n",
    "\n",
    "\n",
    "\n",
    "# 다형성 - 한 요소에 여러 개념을 넣는 것\n",
    "오버라이딩 - 같은 이름 메서드 / 다른기능\n",
    "오버로딩 - 같은 이름 / 다른 매개 변수나 자료형에 따라 다른 기능"
   ]
  },
  {
   "cell_type": "code",
   "execution_count": 1,
   "metadata": {},
   "outputs": [
    {
     "ename": "NameError",
     "evalue": "name '__init__' is not defined",
     "output_type": "error",
     "traceback": [
      "\u001b[1;31m---------------------------------------------------------------------------\u001b[0m",
      "\u001b[1;31mNameError\u001b[0m                                 Traceback (most recent call last)",
      "\u001b[1;32m<ipython-input-1-5d65595cb396>\u001b[0m in \u001b[0;36m<module>\u001b[1;34m()\u001b[0m\n\u001b[0;32m      5\u001b[0m \u001b[1;31m## 클래스의 메서드\u001b[0m\u001b[1;33m\u001b[0m\u001b[1;33m\u001b[0m\u001b[0m\n\u001b[0;32m      6\u001b[0m \u001b[1;31m# 생성자 메서드 - 객체를 생성하기 위해 호출되는 메서드\u001b[0m\u001b[1;33m\u001b[0m\u001b[1;33m\u001b[0m\u001b[0m\n\u001b[1;32m----> 7\u001b[1;33m \u001b[0m__init__\u001b[0m\u001b[1;33m(\u001b[0m\u001b[0mself\u001b[0m\u001b[1;33m,\u001b[0m \u001b[0m변수들\u001b[0m\u001b[1;33m)\u001b[0m\u001b[1;33m\u001b[0m\u001b[0m\n\u001b[0m\u001b[0;32m      8\u001b[0m \u001b[1;31m# 소멸자 메서드 - 객체가 소멸되기 전에 호출되는 메서드\u001b[0m\u001b[1;33m\u001b[0m\u001b[1;33m\u001b[0m\u001b[0m\n\u001b[0;32m      9\u001b[0m \u001b[0m__del__\u001b[0m\u001b[1;33m(\u001b[0m\u001b[0mself\u001b[0m\u001b[1;33m)\u001b[0m\u001b[1;33m\u001b[0m\u001b[0m\n",
      "\u001b[1;31mNameError\u001b[0m: name '__init__' is not defined"
     ]
    }
   ],
   "source": [
    "class Person :\n",
    "    pass\n",
    "member = Person()\n",
    "\n",
    "## 클래스의 메서드\n",
    "# 생성자 메서드 - 객체를 생성하기 위해 호출되는 메서드\n",
    "__init__(self, 변수들)  \n",
    "# 소멸자 메서드 - 객체가 소멸되기 전에 호출되는 메서드\n",
    "__del__(self) \n",
    "\n",
    "# >\n",
    "__gt__(self, other) :\n",
    "    return self.__age > other.__age\n",
    "# >=\n",
    "__ge__(self, other)\n",
    "# <\n",
    "__lt__(self, other)\n",
    "# <= \n",
    "__le__(self, other)\n",
    "# ==\n",
    "__eq__(self, other)\n",
    "\n",
    "# str() 하면 불리는 것\n",
    "__str__(self)"
   ]
  },
  {
   "cell_type": "code",
   "execution_count": null,
   "metadata": {},
   "outputs": [],
   "source": [
    "### 인스턴스 \n",
    "## 인스턴스 메서드 - self가 가리키는 객체의 필드 정보에 접근해 기능을 특정 목적의 수행하도록 정의된 메서드\n",
    "\n",
    "## 인스턴스 변수 - self.변수 형태를 가지는 변수\n",
    "\n",
    "## 인스턴스 변수의 접근 제한 기능\n",
    "self.__name = name\n",
    "#__ 는 프라이빗 필드 생성 >> getter, setter 만들어주어야함\n",
    "\n",
    "# 데코레이터 기능\n",
    "@Property\n",
    "def 변수명(self) : # getter 역할\n",
    "    return self.__변수명\n",
    "\n",
    "@변수명.setter\n",
    "def 변수명(self.변수명) :\n",
    "    self.__변수명 = 변수\n",
    "\n",
    "## 클래스 변수\n",
    "class 클래스명 :\n",
    "    클래스변수명 = 값\n",
    "    ...\n",
    "    \n",
    "클래스명.클래스변수명 = .. # 이렇게 접근\n",
    "\n",
    "## 클래스 매서드\n",
    "class 클래스명 :\n",
    "    @classmethod\n",
    "    def 클래스 메서드(cls, double) :# cls 담는 것 주의하기(클래스 자신에 대한 참조전달)\n",
    "        return ...\n",
    "    \n"
   ]
  }
 ],
 "metadata": {
  "kernelspec": {
   "display_name": "Python 3",
   "language": "python",
   "name": "python3"
  },
  "language_info": {
   "codemirror_mode": {
    "name": "ipython",
    "version": 3
   },
   "file_extension": ".py",
   "mimetype": "text/x-python",
   "name": "python",
   "nbconvert_exporter": "python",
   "pygments_lexer": "ipython3",
   "version": "3.6.5"
  }
 },
 "nbformat": 4,
 "nbformat_minor": 2
}
