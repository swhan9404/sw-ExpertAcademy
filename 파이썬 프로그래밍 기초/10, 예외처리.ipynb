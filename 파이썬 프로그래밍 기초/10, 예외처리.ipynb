{
 "cells": [
  {
   "cell_type": "code",
   "execution_count": null,
   "metadata": {},
   "outputs": [],
   "source": [
    "# 예외처리의 종류\n",
    "- 구문오류 : 해석단계에서 발생 > 잘못된입력을 입력하여 에러\n",
    "- 예외(exception) : 실행단계에서 발생 > 문법적인 문제는 없는데 실행 중에 예기치 않게 발생함\n",
    "\n",
    "#구문오류\n",
    "SyntaxError : 파이썬 인터프리터가 해석하지 못해 발생(오타나 문법적으로 필수요소가 빠지진 않았는지 찾아서 재코딩)\n",
    "\n",
    "#예외 \n",
    "IndexError : 인덱스 범위 벗어남\n"
   ]
  },
  {
   "cell_type": "code",
   "execution_count": null,
   "metadata": {},
   "outputs": [],
   "source": [
    "#예외 발생시 해결방법\n",
    "1. if문을 이용한 예외의 처리 > 정상적인 흐름을 제어할 경우에만 사용 가능\n",
    "2. try ~ except ~ else ~ finally 문을 이용한 예외의 처리  \n",
    "try ~ except ~# 예외가 발생했을 때 처리\n",
    "else ~ # 예외가 발생하지 않았을 때 처리\n",
    "finally ~# 예외 발생과 상관없이 실행"
   ]
  },
  {
   "cell_type": "code",
   "execution_count": null,
   "metadata": {},
   "outputs": [],
   "source": [
    "# 예외 객체 - 코드를 실행 중 오류가 발생하면 만들어진 것으로, 오류 발생과 관련한 정보를 가지고 있음\n",
    "try :\n",
    "\t실행문\n",
    "except Exception as ex : #ex로 참조\n",
    "\tprint(\"{0} : {1}\".format(type(ex), ex)) #<class 'ValueError'>: invalid literal for int() with base 10 : '1o') # 어디서 에러인지, 무슨 에러인지 출력\n",
    "\t예외시 실행문\n",
    "\n",
    "print(\"나누기 연산의 결과를 구해봅시다\")\n",
    "\n",
    "x,y,result =0,0,0\n",
    "\n",
    "try :\n",
    "  x= int(input(\"피제수를 입력하세요 : \"))\n",
    "  y= int(input(\"제수를 입력하세요 : \"))\n",
    "  result = x/y\n",
    "except ValueError as ve :\n",
    "  print(\"입력 값은 반드시 숫자를 사용해야 합니다.\")\n",
    "  print(\"{0} : {1}\".format(type(ve),ve)) # <class 'ValueError'> : invalid literal for int() with base 10: '1wq'\n",
    "except ZeroDivisionError as ze :\n",
    "  print(\"제수로 0을 사용할 수 없습니다\")\n",
    "  print(\"{0} : {1}\".format(type(ze),ze)) #<class 'ZeroDivisionError'> : division by zero"
   ]
  },
  {
   "cell_type": "code",
   "execution_count": null,
   "metadata": {},
   "outputs": [],
   "source": [
    "#강제 예외 발생시키는 법 0 특정 조건에서 예외 객체를 만들어 예외를 일으킬 수 있음\n",
    "# raise - 특정한 예외를 일으키기\n",
    "def calc_area(w,h) :\n",
    "  if w.isdigit() and h.isdigit() :\n",
    "    return int(w) * int(h)\n",
    "  else : \n",
    "    raise ValueError(\"숫자가 아닌 값이 입력되었습니다.\")\n",
    "\n",
    "print(\"사각형의 면적을 구해봅시다\")\n",
    "width = input(\"폭 : \")\n",
    "height = input(\"높이 : \")\n",
    "\n",
    "try :\n",
    "  area = calc_area(width, height)\n",
    "except ValueError as ve :\n",
    "  print(\"{0} : {1}\".format(type(ve),ve)) # <class 'ValueError'> : 숫자가 아닌 값이 입력되었습니다."
   ]
  }
 ],
 "metadata": {
  "kernelspec": {
   "display_name": "Python 3",
   "language": "python",
   "name": "python3"
  },
  "language_info": {
   "codemirror_mode": {
    "name": "ipython",
    "version": 3
   },
   "file_extension": ".py",
   "mimetype": "text/x-python",
   "name": "python",
   "nbconvert_exporter": "python",
   "pygments_lexer": "ipython3",
   "version": "3.6.5"
  }
 },
 "nbformat": 4,
 "nbformat_minor": 2
}
