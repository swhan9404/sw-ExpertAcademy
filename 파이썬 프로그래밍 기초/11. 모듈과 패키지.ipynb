{
 "cells": [
  {
   "cell_type": "code",
   "execution_count": null,
   "metadata": {},
   "outputs": [],
   "source": [
    "# 표준 모듈 - 각기 목적에 맞게 설계되어 있고 다양한 함수, 클래스 등을 제공하며, 별도의 추가 설치 과정 없이 import문으로 로딩해 사용함\n",
    "\n",
    "from 모듈명 import 함수나 값 # 선택적 로딩 > 명시적으로 선언해 사용하면, 해당 함수가 어느 모듈에서 로딩되었는지 명확히 알 수 있기 때문에 권장"
   ]
  },
  {
   "cell_type": "code",
   "execution_count": null,
   "metadata": {},
   "outputs": [],
   "source": [
    "# sys 모듈 - 시스템과 관련된 정보에 접근하거나 명령행에서 전달된 명령행 매개변수로부터 인자 값을 읽어올 떄 활용\n",
    "sys.argv # 리스트타입, 명령행에서 python 명령에 전달된 인자들의 정보를 담고 있음\n",
    "\n",
    "import sys\n",
    "print(\"sys.argv => {0} {1}\".format(type(sys.argv),sys.argv)) #sys.argv => <class 'list'> ['main.py'] #[0]-실행파일명, [1] 이후에는 configuration의 parameters 값들이 들어감"
   ]
  },
  {
   "cell_type": "code",
   "execution_count": null,
   "metadata": {},
   "outputs": [],
   "source": [
    "# random 모듈 - 난수(연속적인 임의의 수)를 생성하는 기능 제공\n",
    "from random import random, uniform, randrange, choice, choices, sample, shuffle\n",
    "\n",
    "print(\"random() => {0}\".format(random())) #0~1 사이 랜덤 실수값\n",
    "print(\"uniform({0}, {1}) => {2}\".format(1.0, 10.0, uniform(1.0, 10.0))) # 매개변수 a이상 b 미만 랜덤 실수값\n",
    "print(\"randrange({0}, {1}) => {2}\".format(1,45, randrange(1,45)))  # 매개변수 a이상 b 미만 랜덤 정수 값\n",
    "print(\"randrange({0}, {1}, {2}) => {3}\".format(1,45,3, randrange(1,45,3)))  # 매개변수 a이상 b 미만 랜덤 정수 값(3번쨰 매개변수는 step)\n",
    "\n",
    "data_list = [1,2,3,4,5]\n",
    "print(\"choice({0}) => {1}\".format(data_list, choice(data_list))) # 인자로 전달된 시퀸스 객체의 항목 중 임의 항목 반환\n",
    "print(\"choices({0}) => {1}\".format(data_list, choices(data_list, k=2))) # 인자로 전달된 시퀸스 객체의 항목 중 임의의 K개를 반환 복원 추출 기능을 가진 시뮬레이션 함수(중복되서 뽑음)\n",
    "print(\"sample({0}) => {1}\".format(data_list, sample(data_list, k=2))) #인자로 전달된 시퀀스 객체, 혹은 set 객체 항목 중 임의의 K개를 반환, 비복원 추출 기능을 가진 시뮬레이션 함수(중복x)\n",
    "shuffle(data_list) #반환값 x , 인자로 전달된 시퀀스 객체의 항목을 뒤섞는 함수 반환값은 없고 원본 객체의 항목의 순서를 뒤섞음\n",
    "print(\"data_list => {0}\".format(data_list))"
   ]
  },
  {
   "cell_type": "code",
   "execution_count": null,
   "metadata": {},
   "outputs": [],
   "source": [
    "# datetime 모듈 - 날짜와 시간 정보를 확인하고 조작하는 클래스, 함수 등을 제공함\n",
    "\n",
    "from datetime import datetime, timezone, timedelta\n",
    "\n",
    "now = datetime.now() # 현재 지역의 날짜와 시각 정보를 가진 datetime 객체를 얻음\n",
    "print(\"{0} - {1:02} - {2:02} {3:02} : {4:02} : {5:02}\". format(now.year, now.month, now.day, now.hour, now.minute, now.second)) # 2021 - 01 - 04 16 : 02 : 47\n",
    "\n",
    "fmt =\"%Y{0} %m{1} %d{2} %H{3} %M{4} %S{5}\" \n",
    "print(now.strftime(fmt.format(*\"년월일시분초\"))) #2021년 01월 04일 16시 05분 32초\n",
    "\"\"\"\n",
    "%Y : 네자리의 연도정보\n",
    "%m : 월 정보\n",
    "%d : 일 정보\n",
    "%H : 24시간 체계의 시간정보\n",
    "%M : 분정보\n",
    "%S : 초정보\n",
    "\"\"\"\n"
   ]
  },
  {
   "cell_type": "code",
   "execution_count": null,
   "metadata": {},
   "outputs": [],
   "source": [
    "#서드 파티(외부) 모듈- 다른 누군가에 의해 만들어져 배포되고 공유되는 모듈\n",
    "pip를 이용하여 서드 파티 모듈을 설치하거나 제거할 수 있음\n",
    "\n",
    "#설치\n",
    "pip install 모듈명\n",
    "#삭제\n",
    "pip uninstall 모듈명 "
   ]
  },
  {
   "cell_type": "code",
   "execution_count": 1,
   "metadata": {},
   "outputs": [
    {
     "ename": "SyntaxError",
     "evalue": "invalid syntax (<ipython-input-1-8024173c9456>, line 2)",
     "output_type": "error",
     "traceback": [
      "\u001b[1;36m  File \u001b[1;32m\"<ipython-input-1-8024173c9456>\"\u001b[1;36m, line \u001b[1;32m2\u001b[0m\n\u001b[1;33m    모듈은 .py 확장자로 관리\u001b[0m\n\u001b[1;37m               ^\u001b[0m\n\u001b[1;31mSyntaxError\u001b[0m\u001b[1;31m:\u001b[0m invalid syntax\n"
     ]
    }
   ],
   "source": [
    "# 사용자 정의 모듈 - 필요한 기능을 직접 구현한 사용자 정의 모듈\n",
    "모듈은 .py 확장자로 관리  \n",
    "> 목적에 따라 두가지로 분리\n",
    "1. 실행의 목적 (파이썬 명령에 의해 실행)\n",
    "__name__ 속성에 \"__main__\" 문자열 값이 들어가 있음\n",
    "\n",
    "2. 라이브러리의 목적(import 문에 의해 로딩)\n",
    "__name__ 속성에 모듈의 이름이 저장되어 있음\n",
    "\n",
    "if __name__ == \"__main__\" : # python 명령으로 실행 > 실행 모듈로 동작 \n",
    "# 이렇게 하면 모듈로 실행되었을 때와 메인으로 실행 되었을 때를 구분해 동작할 수 있음."
   ]
  },
  {
   "cell_type": "code",
   "execution_count": null,
   "metadata": {},
   "outputs": [],
   "source": [
    "# 사용자 정의 패키지 - 모듈이 모여 패키지 \n",
    "# 만들기\n",
    "폴더(패키지) 만들기 \n",
    "> __init__.py 와 함수와 변수가 들어있는 py 파일을 넣는다\n",
    "> __init__.py 파일에\n",
    "__all__ = [py 파일 명들] #__all__ 속성에 패키지에 포함될 모듈 이름 저장\n",
    "print(\"package가 로딩되었습니다\") # 패키지 로딩 확인을 위한 출력 메세지\n",
    "\n",
    "#사용\n",
    "from 패키지명 import 모듈명(py파일 이름들)"
   ]
  }
 ],
 "metadata": {
  "kernelspec": {
   "display_name": "Python 3",
   "language": "python",
   "name": "python3"
  },
  "language_info": {
   "codemirror_mode": {
    "name": "ipython",
    "version": 3
   },
   "file_extension": ".py",
   "mimetype": "text/x-python",
   "name": "python",
   "nbconvert_exporter": "python",
   "pygments_lexer": "ipython3",
   "version": "3.6.5"
  }
 },
 "nbformat": 4,
 "nbformat_minor": 2
}
