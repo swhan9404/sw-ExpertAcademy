{
 "cells": [
  {
   "cell_type": "code",
   "execution_count": null,
   "metadata": {},
   "outputs": [],
   "source": [
    "\"\"\"\n",
    "언팩 연산자(*) : 매개변수의 개수를 가변적으로 사용할 수 있도록 언팩 연산자(*) 제공\n",
    "매개변수에 적용시 인자를 튜플 형식으로 처리함\n",
    "가변형 매개변수를 마지막 매개변수로 지정해야 부작용 없이 사용할 수 있음\n",
    "\"\"\"\n",
    "\n",
    "def calc_sum(*params) :\n",
    "  total =0 \n",
    "  for val in params :\n",
    "    total += val\n",
    "  return total\n",
    "\n",
    "ret_val = calc_sum(1,2)\n",
    "print(ret_val)"
   ]
  },
  {
   "cell_type": "code",
   "execution_count": null,
   "metadata": {},
   "outputs": [],
   "source": [
    "\"\"\"\n",
    "키워드 언팩 연산자(**) : 매개변수의 개수를 가변적으로 사용할 수 있도록 함\n",
    "키워드 인자들을 전달해 매개변수를 딕셔너리 형식으로 처리함\n",
    "매개변수에 전달할 인자값이 생략되었다면>> 사용할 기본값 지정(기본값을 가지는 매개변수는 일반 매개변수 앞에 위치할 수 없음)\n",
    "\"\"\"\n",
    "\n",
    "\n",
    "def use_keyword_arg_unpacking(**params) :\n",
    "  for k in params.keys() :\n",
    "    print(\"{0} : {1}\".format(k,params[k]))\n",
    "print(\"use_keyword_arg_unpacking()의 호출\")\n",
    "use_keyword_arg_unpacking(a=1, b=2, c=3)\n"
   ]
  },
  {
   "cell_type": "code",
   "execution_count": null,
   "metadata": {},
   "outputs": [],
   "source": [
    "#고급함수\n",
    "\"\"\"\n",
    "중첩함수 - 함수 내에 중첩함수를 선언해 사용가능\n",
    "1. 중첩함수를 포함하는 함수 내에서만 호출이 가능함\n",
    "2. 충첨함수를 포함하는 함수의 스코프에도 접근이 가능함\n",
    "\"\"\"\n",
    "\n",
    "\"\"\"\n",
    "람다식\n",
    "Lambda 매개변수 : 반환값\n",
    "1. 변수에 저장해 재사용이 가능한 함수처럼 사용함\n",
    "2. 기존의 함수처럼 매개변수의 인자로 전달함\n",
    "3. 함수의 매개변수에 직접 인자로 전달할 수 있음.\n",
    "\"\"\"\n",
    "\n",
    "def calc(operator_fn, x, y) :\n",
    "  return operator_fn(x,y)\n",
    "\n",
    "ret_val = calc(lambda a, b : a-b , 10, 5)\n",
    "print(\"calc(lambda a,b : a-b,10,5)의 결과 값 : {0}\".format(ret_val))"
   ]
  },
  {
   "cell_type": "code",
   "execution_count": null,
   "metadata": {},
   "outputs": [],
   "source": [
    "\"\"\"\n",
    "클로저\n",
    "1. 중첩함수에서 중첩함수를 포함하는 함수의 scope에 접근가능\n",
    "2. 중첨함수 자체를 반환값으로 사용한다면\n",
    "> 정보 은닉 구현가능\n",
    "> 전역 변수의 남용 방지\n",
    "> 메서드가 하나 밖에 없는 객체를 만드는 것보다 우아한 구현 가능\n",
    "\"\"\"\n",
    "\n",
    "def outer_func() :\n",
    "  id =0\n",
    "  def inner_func() :\n",
    "    nonlocal id \n",
    "    # 변수 id가 중첩함수인 inner_func 함수의 지역변수가 아님\n",
    "    # 변수 id 접근시 outer_func 함수 스코프에서 찾게 만듬\n",
    "    id+=1\n",
    "    return id\n",
    "  return inner_func # inner_func() 함수 호출이 아닌 함수에 대한 참조를 반환함에 유의\n",
    "\n",
    "make_id = outer_func()\n"
   ]
  }
 ],
 "metadata": {
  "kernelspec": {
   "display_name": "Python 3",
   "language": "python",
   "name": "python3"
  },
  "language_info": {
   "codemirror_mode": {
    "name": "ipython",
    "version": 3
   },
   "file_extension": ".py",
   "mimetype": "text/x-python",
   "name": "python",
   "nbconvert_exporter": "python",
   "pygments_lexer": "ipython3",
   "version": "3.6.5"
  }
 },
 "nbformat": 4,
 "nbformat_minor": 2
}
