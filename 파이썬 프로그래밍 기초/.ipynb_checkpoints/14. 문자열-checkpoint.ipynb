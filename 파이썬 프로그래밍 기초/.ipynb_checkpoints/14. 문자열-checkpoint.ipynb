{
 "cells": [
  {
   "cell_type": "code",
   "execution_count": 1,
   "metadata": {},
   "outputs": [
    {
     "ename": "SyntaxError",
     "evalue": "invalid syntax (<ipython-input-1-1652ff22d18f>, line 2)",
     "output_type": "error",
     "traceback": [
      "\u001b[1;36m  File \u001b[1;32m\"<ipython-input-1-1652ff22d18f>\"\u001b[1;36m, line \u001b[1;32m2\u001b[0m\n\u001b[1;33m    +\u001b[0m\n\u001b[1;37m     ^\u001b[0m\n\u001b[1;31mSyntaxError\u001b[0m\u001b[1;31m:\u001b[0m invalid syntax\n"
     ]
    }
   ],
   "source": [
    "## 문자열 연결\n",
    "+\n",
    "\" \".format()\n",
    "\n",
    "## 반복\n",
    "# 문자열 출현 횟수\n",
    "문자열.count(특정문자)\n",
    "\n",
    "# 문자열 찾기\n",
    "문자열.find(특정문자) # 찾을 경우 index(처음찾은) / 없을시 -1 \n",
    "문자열.rfind(특정문자) # 뒤에서부터 찾기\n",
    "문자열.index(특정문자) # 못찾으면 valueError 발생\n",
    "\n",
    "# 문자열 삽입\n",
    "출력 = 삽입문자.join(삽입당할 문자열)\n",
    "\n",
    "# 대문자\n",
    "문자열.upper()\n",
    "# 소문자\n",
    "문자열.lower()\n",
    "# 맨 앞만 대문자\n",
    "문자열.capitalize()\n",
    "\n",
    "# 공백제거\n",
    "문자열.strip()\n",
    "문자열.rstrip()\n",
    "문자열.lstrip(\"_0>?#\") # 하면 이것에 속하는 문자 왼쪽부터 전부 제거\n",
    "\n",
    "# 문자열 교체\n",
    "문자열.replace(바꿀것, 뭐로 바꿀지)"
   ]
  },
  {
   "cell_type": "code",
   "execution_count": null,
   "metadata": {},
   "outputs": [],
   "source": []
  }
 ],
 "metadata": {
  "kernelspec": {
   "display_name": "Python 3",
   "language": "python",
   "name": "python3"
  },
  "language_info": {
   "codemirror_mode": {
    "name": "ipython",
    "version": 3
   },
   "file_extension": ".py",
   "mimetype": "text/x-python",
   "name": "python",
   "nbconvert_exporter": "python",
   "pygments_lexer": "ipython3",
   "version": "3.6.5"
  }
 },
 "nbformat": 4,
 "nbformat_minor": 2
}
