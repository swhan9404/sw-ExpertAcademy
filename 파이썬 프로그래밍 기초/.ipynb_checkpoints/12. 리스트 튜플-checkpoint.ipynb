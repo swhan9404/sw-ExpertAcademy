{
 "cells": [
  {
   "cell_type": "code",
   "execution_count": null,
   "metadata": {},
   "outputs": [],
   "source": [
    "# 시퀀스형 - 데이터에 대해 순서를 가진 자료구조 총칭\n",
    "# 종류 - 리스트, 튜플\n",
    "\n",
    "# 리스트 - 대괄호[] 안에 서로 다른 자료형의 값을 콤마로 구분해 하나 이상 저장할 수 있는 컬렉션 자료형\n",
    "\n",
    "#리스트 항목 접근 index(찾는자료) >해당 항목의 값이 들어있는 첫번쨰 위치의 인덱스 반환\n",
    "data_list =[10,20,30,40,50]\n",
    "print(\"data_list.index(20) => {0}\".format(data_list.index(20))\n",
    "\n",
    "#항목 추가\n",
    "리스트.insert(위치, 넣을자료)\n",
    "리스트.extend(추가할 리스트) # 반환값 : None\n",
    "리스트.append(마지막 자리에 항목으로 추가할 것) \n",
    "\n",
    "#항목 제거\n",
    "del 리스트[위치] \n",
    "리스트.pop(위치) # 제거한 항목 반환\n",
    "리스트.remove(없앨 정보) #없앨 정보 를 가진 첫번째 항목 제거\n",
    "리스트.clear() # 모든 항목을 제거해 빈 리스트 객체 생성,  del 리스트[:] 와 동일\n",
    "\n",
    "#항목 확인\n",
    "자료 in 리스트 # 존재 유무 True,False\n",
    "자료 not in 리스트\n",
    "리스트.count(셀 자료) # 몇개 있는지 갯수 반환\n",
    "\n",
    "#리스트 내포\n",
    "data_list = [1,2,3,4,5]\n",
    "data_list2= [ item for item in data_list] # data_list 동일하게 리스트 내포를 이용해 만들기\n",
    "      \n",
    "data_list3 = []\n",
    "for x in data_list :\n",
    "    if x%2 ==1 :\n",
    "for y in data_list :\n",
    "    if y%2 ==0 :\n",
    "data_list3.append(x*y)\n",
    "print(\"data_list3: {0} {1}\".format(type(data_list3),data_list3)) \n",
    "# [2,4,6,12,10,20]\n",
    "# 1*2, 1*4, 3*2, 3*4, 5*2, 5*4\n",
    "data_list4 = [ x * y for x in data_list if x %2 ==1\n",
    "for y in data_list1 if y%2 ==0 ]\n",
    "# data_list3 를 아주 간단하게 구현할 수 있게됨"
   ]
  },
  {
   "cell_type": "code",
   "execution_count": 4,
   "metadata": {},
   "outputs": [
    {
     "name": "stdout",
     "output_type": "stream",
     "text": [
      "0 Alice\n",
      "1 Bob\n",
      "2 Charlie\n",
      "AliceBobCharlie\n"
     ]
    }
   ],
   "source": [
    "# enumerator ( index와 요소 동시 출력)\n",
    "list_data = ['Alice', 'Bob', 'Charlie']\n",
    "for idx, item in enumerate(list_data) :\n",
    "    print(idx, item)\n",
    "\n",
    "# List 하나의 변수로 합치기\n",
    "str = \"\".join(list_data)\n",
    "print(str)"
   ]
  }
 ],
 "metadata": {
  "kernelspec": {
   "display_name": "Python 3",
   "language": "python",
   "name": "python3"
  },
  "language_info": {
   "codemirror_mode": {
    "name": "ipython",
    "version": 3
   },
   "file_extension": ".py",
   "mimetype": "text/x-python",
   "name": "python",
   "nbconvert_exporter": "python",
   "pygments_lexer": "ipython3",
   "version": "3.6.5"
  }
 },
 "nbformat": 4,
 "nbformat_minor": 2
}
